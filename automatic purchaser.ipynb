{
 "cells": [
  {
   "cell_type": "code",
   "execution_count": null,
   "metadata": {},
   "outputs": [],
   "source": [
    "# encoding: utf-8\n",
    "from selenium import webdriver\n",
    "import requests\n",
    "import time\n",
    "import sys\n",
    "from bs4 import BeautifulSoup\n"
   ]
  },
  {
   "cell_type": "code",
   "execution_count": null,
   "metadata": {},
   "outputs": [],
   "source": [
    "\n",
    "url = r'https://24h.pchome.com.tw/prod/DGBJG9-A900B51SM' #購買物網頁\n",
    "#url = r'https://24h.pchome.com.tw/prod/DGBJGA-1900B4YVU?fq=/S/DGBJGA'\n",
    "#url = r'https://24h.pchome.com.tw/prod/DBAB01-A05738524'\n",
    "driver_path = r'C:\\Users\\RTES\\Desktop\\chromedriver.exe' # chromedriver 位置"
   ]
  },
  {
   "cell_type": "code",
   "execution_count": null,
   "metadata": {},
   "outputs": [],
   "source": [
    "option = webdriver.ChromeOptions()\n",
    "#option.add_argument('headless')\n",
    "option.add_argument(\"--lang=en\")\n",
    "driver = webdriver.Chrome(options=option,executable_path=driver_path)"
   ]
  },
  {
   "cell_type": "code",
   "execution_count": null,
   "metadata": {},
   "outputs": [],
   "source": [
    "driver.implicitly_wait(15)\n",
    "url0='https://ecvip.pchome.com.tw/login/v3/login.htm'\n",
    "acc = \"帳號\"\n",
    "passw = \"密碼\"\n",
    "driver.get(url0)\n",
    "time.sleep(10)\n",
    "driver.find_element_by_id(\"loginAcc\").click()\n",
    "driver.find_element_by_id(\"loginAcc\").clear()\n",
    "driver.find_element_by_id(\"loginAcc\").send_keys(acc)\n",
    "time.sleep(2)\n",
    "driver.find_element_by_id(\"loginPwd\").clear()\n",
    "driver.find_element_by_id(\"loginPwd\").send_keys(passw)\n",
    "driver.find_element_by_id(\"loginPwd\").click()\n",
    "time.sleep(2)\n",
    "driver.find_element_by_id(\"btnLogin\").click()\n",
    "time.sleep(2)"
   ]
  },
  {
   "cell_type": "code",
   "execution_count": null,
   "metadata": {
    "scrolled": true
   },
   "outputs": [],
   "source": [
    "driver.implicitly_wait(2)\n",
    "driver.get(url)\n",
    "pageSource = driver.page_source\n",
    "soup = BeautifulSoup(pageSource, \"html.parser\")\n",
    "while '尚未開賣' in driver.page_source:\n",
    "    print('尚未開賣')\n",
    "    driver.get(url)\n",
    "    while(len(driver.page_source)<1000):\n",
    "        a=1\n",
    "    time.sleep(0.5)\n",
    "print('開賣')\n",
    "driver.implicitly_wait(1)\n",
    "while 1:\n",
    "    try:\n",
    "        button_buy = driver.find_element_by_xpath('//li[@id=\"ButtonContainer\"]/button')\n",
    "        button_buy.click()\n",
    "        print(\"加入購物車\")\n",
    "        break\n",
    "    except:\n",
    "        print(\"正在找購物車\")\n",
    "while True:\n",
    "    try:\n",
    "        button_check = driver.find_element_by_css_selector(\"span[id='toolamount'][class='amount']\")\n",
    "        driver.find_element_by_css_selector(\"span.check\").click()\n",
    "        print(\"結帳\")\n",
    "        break\n",
    "    except:\n",
    "        print(\"正在找結帳\")\n",
    "        continue\n",
    "\n",
    "while 1:\n",
    "    try:\n",
    "        button_CC = driver.find_element_by_class_name(\"CC\")\n",
    "        button_CC.click()\n",
    "        print(\"一次付清\")\n",
    "        break\n",
    "    except:\n",
    "        print(\"正在找一次付清\")\n",
    "driver.implicitly_wait(15)\n",
    "driver.find_element_by_id(\"multi_CVV2Num\").click()\n",
    "driver.find_element_by_id(\"multi_CVV2Num\").clear()\n",
    "driver.find_element_by_id(\"multi_CVV2Num\").send_keys(\"xxx\")\n",
    "while 1:\n",
    "    try:\n",
    "        button_Submit = driver.find_element_by_class_name(\"send\")\n",
    "        button_Submit.click()\n",
    "        print(\"完成付款\")\n",
    "        break\n",
    "    except:\n",
    "        print(\"正在完成付款\")\n",
    "button_Submit = driver.find_element_by_class_name(\"send\")\n",
    "button_Submit.click()"
   ]
  },
  {
   "cell_type": "code",
   "execution_count": null,
   "metadata": {},
   "outputs": [],
   "source": [
    "driver.implicitly_wait(15)\n",
    "driver.find_element_by_id(\"multi_CVV2Num\").click()\n",
    "driver.find_element_by_id(\"multi_CVV2Num\").clear()\n",
    "driver.find_element_by_id(\"multi_CVV2Num\").send_keys(\"xxx\")\n",
    "while 1:\n",
    "    try:\n",
    "        button_Submit = driver.find_element_by_class_name(\"send\")\n",
    "        button_Submit.click()\n",
    "        print(\"完成付款\")\n",
    "        break\n",
    "    except:\n",
    "        print(\"正在完成付款\")"
   ]
  },
  {
   "cell_type": "code",
   "execution_count": null,
   "metadata": {},
   "outputs": [],
   "source": [
    "button_Submit = driver.find_element_by_class_name(\"send\")\n",
    "button_Submit.click()"
   ]
  }
 ],
 "metadata": {
  "kernelspec": {
   "display_name": "Python 3",
   "language": "python",
   "name": "python3"
  },
  "language_info": {
   "codemirror_mode": {
    "name": "ipython",
    "version": 3
   },
   "file_extension": ".py",
   "mimetype": "text/x-python",
   "name": "python",
   "nbconvert_exporter": "python",
   "pygments_lexer": "ipython3",
   "version": "3.6.12"
  }
 },
 "nbformat": 4,
 "nbformat_minor": 4
}
